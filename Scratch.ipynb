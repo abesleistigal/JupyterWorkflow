{
 "cells": [
  {
   "cell_type": "code",
   "execution_count": 6,
   "metadata": {
    "collapsed": true
   },
   "outputs": [],
   "source": [
    "from jupyterworkflow.data import get_fremont_data\n",
    "import pandas as pd\n",
    "\n",
    "\n",
    "def test_fremont_data():\n",
    "    data = get_fremont_data()\n",
    "    assert all(data.columns == (\"West\", \"East\", \"Total\"))\n",
    "    assert isinstance(data.index, pd.DatetimeIndex)"
   ]
  },
  {
   "cell_type": "markdown",
   "metadata": {},
   "source": [
    "mkdir jupyterworkflow/tests\n",
    "subl jupyterworkflow/tests/test_data.py\n",
    "upper function copied to test_data.py\n",
    "\n",
    "git status\n",
    "\n",
    "python -m pytest jupyterworkflow\n"
   ]
  },
  {
   "cell_type": "markdown",
   "metadata": {},
   "source": [
    "1 failed in 10.69 seconds.\n",
    "\n",
    "Too slow.\n",
    "We should refactor and check the output is consistent with our new function.\n",
    "\n",
    "subl Makefile\n",
    "\n",
    "test:\n",
    "    python -m pytest jupyterworkflow"
   ]
  },
  {
   "cell_type": "code",
   "execution_count": null,
   "metadata": {
    "collapsed": true
   },
   "outputs": [],
   "source": []
  }
 ],
 "metadata": {
  "kernelspec": {
   "display_name": "Python 3",
   "language": "python",
   "name": "python3"
  },
  "language_info": {
   "codemirror_mode": {
    "name": "ipython",
    "version": 3
   },
   "file_extension": ".py",
   "mimetype": "text/x-python",
   "name": "python",
   "nbconvert_exporter": "python",
   "pygments_lexer": "ipython3",
   "version": "3.6.1"
  }
 },
 "nbformat": 4,
 "nbformat_minor": 2
}
