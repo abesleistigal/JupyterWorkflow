{
 "cells": [
  {
   "cell_type": "code",
   "execution_count": 1,
   "metadata": {},
   "outputs": [],
   "source": [
    "from jupyterworkflow.data import get_fremont_data\n",
    "import pandas as pd\n",
    "\n",
    "\n",
    "def test_fremont_data():\n",
    "    data = get_fremont_data()\n",
    "    assert all(data.columns == [\"West\", \"East\", \"Total\"])\n",
    "    assert isinstance(data.index, pd.DatetimeIndex)"
   ]
  },
  {
   "cell_type": "markdown",
   "metadata": {},
   "source": [
    "mkdir jupyterworkflow/tests\n",
    "subl jupyterworkflow/tests/test_data.py\n",
    "upper function copied to test_data.py\n",
    "\n",
    "git status\n",
    "\n",
    "python -m pytest jupyterworkflow\n"
   ]
  },
  {
   "cell_type": "markdown",
   "metadata": {},
   "source": [
    "1 failed in 10.69 seconds.\n",
    "\n",
    "Too slow.\n",
    "We should refactor and check the output is consistent with our new function.\n",
    "\n",
    "subl Makefile\n",
    "\n",
    "test:\n",
    "    python -m pytest jupyterworkflow"
   ]
  },
  {
   "cell_type": "code",
   "execution_count": 2,
   "metadata": {},
   "outputs": [],
   "source": [
    "test_fremont_data()"
   ]
  },
  {
   "cell_type": "code",
   "execution_count": 3,
   "metadata": {},
   "outputs": [],
   "source": [
    "data = pd.read_csv(\"Fremont.csv\", index_col=\"Date\")\n",
    "\n",
    "try:\n",
    "    data.index = pd.to_datetime(data.index, format=\"%m/%d/%Y %H:%M:%S %p\")\n",
    "except TypeError:\n",
    "    data.index = pd.to_datetime(data.index)"
   ]
  },
  {
   "cell_type": "code",
   "execution_count": 4,
   "metadata": {},
   "outputs": [
    {
     "data": {
      "text/plain": [
       "DatetimeIndex(['2012-10-03 12:00:00', '2012-10-03 01:00:00',\n",
       "               '2012-10-03 02:00:00', '2012-10-03 03:00:00',\n",
       "               '2012-10-03 04:00:00', '2012-10-03 05:00:00',\n",
       "               '2012-10-03 06:00:00', '2012-10-03 07:00:00',\n",
       "               '2012-10-03 08:00:00', '2012-10-03 09:00:00',\n",
       "               ...\n",
       "               '2017-07-31 02:00:00', '2017-07-31 03:00:00',\n",
       "               '2017-07-31 04:00:00', '2017-07-31 05:00:00',\n",
       "               '2017-07-31 06:00:00', '2017-07-31 07:00:00',\n",
       "               '2017-07-31 08:00:00', '2017-07-31 09:00:00',\n",
       "               '2017-07-31 10:00:00', '2017-07-31 11:00:00'],\n",
       "              dtype='datetime64[ns]', name='Date', length=42312, freq=None)"
      ]
     },
     "execution_count": 4,
     "metadata": {},
     "output_type": "execute_result"
    }
   ],
   "source": [
    "data.index"
   ]
  },
  {
   "cell_type": "markdown",
   "metadata": {},
   "source": [
    "import os\n",
    "from urllib.request import urlretrieve\n",
    "\n",
    "import pandas as pd\n",
    "\n",
    "FREMONT_URL = \"https://data.seattle.gov/api/views/65db-xm6k/rows.csv?accessType=DOWNLOAD\"\n",
    "/# create a function to only dowload this data if we need to download it, first run..\n",
    "\n",
    "\n",
    "def get_fremont_data(filename=\"Fremont.csv\", url=FREMONT_URL, force_download=False):\n",
    "    \"\"\"Download and cache the fremont data\n",
    "\n",
    "    Parameters\n",
    "    ----------\n",
    "    filename :string (optional)\n",
    "        loation to save the data\n",
    "    url: string (optional)\n",
    "        web location of the data\n",
    "    force_download: bool (optional)\n",
    "        if True, force redownload of data\n",
    "\n",
    "    Returns\n",
    "    -------\n",
    "    data: pandas.DataFrame\n",
    "        The fremont bridge data\n",
    "    \"\"\"\n",
    "    if force_download or not os.path.exists(filename):\n",
    "        urlretrieve(url, filename)\n",
    "    data = pd.read_csv(\"Fremont.csv\", index_col=\"Date\")\n",
    "    try:\n",
    "        data.index = pd.to_datetime(data.index, format=\"%m/%d/%Y %H:%M:%S %p\")\n",
    "    except TypeError:\n",
    "        data.index = pd.to_datetime(data.index)\n",
    "\n",
    "    data.columns = [\"West\", \"East\"]\n",
    "    data[\"Total\"] = data[\"West\"] + data[\"East\"]\n",
    "    return data\n",
    "\n",
    "\n",
    "\n",
    "NEW Data,py\n",
    "\n",
    "\n",
    "\n",
    "let's run a unit test to see \n",
    "\n",
    "make test\n",
    "\n",
    "\n",
    "\n"
   ]
  }
 ],
 "metadata": {
  "kernelspec": {
   "display_name": "Python 3",
   "language": "python",
   "name": "python3"
  },
  "language_info": {
   "codemirror_mode": {
    "name": "ipython",
    "version": 3
   },
   "file_extension": ".py",
   "mimetype": "text/x-python",
   "name": "python",
   "nbconvert_exporter": "python",
   "pygments_lexer": "ipython3",
   "version": "3.6.1"
  }
 },
 "nbformat": 4,
 "nbformat_minor": 2
}
